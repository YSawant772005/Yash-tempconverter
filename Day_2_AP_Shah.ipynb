{
  "nbformat": 4,
  "nbformat_minor": 0,
  "metadata": {
    "colab": {
      "provenance": [],
      "include_colab_link": true
    },
    "kernelspec": {
      "name": "python3",
      "display_name": "Python 3"
    },
    "language_info": {
      "name": "python"
    }
  },
  "cells": [
    {
      "cell_type": "markdown",
      "metadata": {
        "id": "view-in-github",
        "colab_type": "text"
      },
      "source": [
        "<a href=\"https://colab.research.google.com/github/YSawant772005/Yash-tempconverter/blob/main/Day_2_AP_Shah.ipynb\" target=\"_parent\"><img src=\"https://colab.research.google.com/assets/colab-badge.svg\" alt=\"Open In Colab\"/></a>"
      ]
    },
    {
      "cell_type": "code",
      "execution_count": null,
      "metadata": {
        "id": "PNAanUNkqEw9"
      },
      "outputs": [],
      "source": [
        "# Collection Data types\n",
        "\n",
        "1. List\n",
        "2. tuple\n",
        "3. set\n",
        "4. dict"
      ]
    },
    {
      "cell_type": "code",
      "source": [
        "l = [10, 10.0,  True, 10 + 0j, \"String\"]\n",
        "l"
      ],
      "metadata": {
        "colab": {
          "base_uri": "https://localhost:8080/"
        },
        "id": "uQKi5URptvwO",
        "outputId": "5529a35b-d70b-40b2-9e82-ed892d9df002"
      },
      "execution_count": null,
      "outputs": [
        {
          "output_type": "execute_result",
          "data": {
            "text/plain": [
              "[10, 10.0, True, (10+0j), 'String']"
            ]
          },
          "metadata": {},
          "execution_count": 1
        }
      ]
    },
    {
      "cell_type": "code",
      "source": [
        "Tuple\n",
        "\n",
        "-> ()\n",
        "-> we can store hetrogeneous data types\n",
        "-> Immutable\n",
        "-> Indexing\n",
        "-> we can store duplicates\n",
        "-> insetion order is preserve\n",
        "-> slicing\n",
        "-> not growable in nature"
      ],
      "metadata": {
        "id": "p-wo_0-ot5Js"
      },
      "execution_count": null,
      "outputs": []
    },
    {
      "cell_type": "code",
      "source": [
        "t = ()\n",
        "type(t)"
      ],
      "metadata": {
        "colab": {
          "base_uri": "https://localhost:8080/"
        },
        "id": "3zRtWiWEt8cf",
        "outputId": "95baf3fa-5580-40f0-f5ab-b8e9e7158305"
      },
      "execution_count": null,
      "outputs": [
        {
          "output_type": "execute_result",
          "data": {
            "text/plain": [
              "tuple"
            ]
          },
          "metadata": {},
          "execution_count": 3
        }
      ]
    },
    {
      "cell_type": "code",
      "source": [
        "t = (10)\n",
        "type(t)"
      ],
      "metadata": {
        "colab": {
          "base_uri": "https://localhost:8080/"
        },
        "id": "jczINYSLt9iF",
        "outputId": "e5ca5af1-a2df-4360-cada-56c2613ea157"
      },
      "execution_count": null,
      "outputs": [
        {
          "output_type": "execute_result",
          "data": {
            "text/plain": [
              "int"
            ]
          },
          "metadata": {},
          "execution_count": 4
        }
      ]
    },
    {
      "cell_type": "code",
      "source": [
        "t = (10, )\n",
        "type(t)"
      ],
      "metadata": {
        "colab": {
          "base_uri": "https://localhost:8080/"
        },
        "id": "-lwbENPKt_SG",
        "outputId": "91678f53-c8dc-4f82-a422-9fb40b3ed5a7"
      },
      "execution_count": null,
      "outputs": [
        {
          "output_type": "execute_result",
          "data": {
            "text/plain": [
              "tuple"
            ]
          },
          "metadata": {},
          "execution_count": 5
        }
      ]
    },
    {
      "cell_type": "code",
      "source": [
        "l = (10, 10.0,  True, 10 + 0j, \"String\")\n",
        "type(l)"
      ],
      "metadata": {
        "colab": {
          "base_uri": "https://localhost:8080/"
        },
        "id": "-Hzwcv3m1YQZ",
        "outputId": "dbc73d86-7326-4a60-e3e8-058713b4ec39"
      },
      "execution_count": null,
      "outputs": [
        {
          "output_type": "execute_result",
          "data": {
            "text/plain": [
              "tuple"
            ]
          },
          "metadata": {},
          "execution_count": 8
        }
      ]
    },
    {
      "cell_type": "code",
      "source": [
        "l"
      ],
      "metadata": {
        "colab": {
          "base_uri": "https://localhost:8080/"
        },
        "id": "GqZZ7xAE1j53",
        "outputId": "cbaf3711-7bee-42bf-be0c-2e214d7de980"
      },
      "execution_count": null,
      "outputs": [
        {
          "output_type": "execute_result",
          "data": {
            "text/plain": [
              "(10, 10.0, True, (10+0j), 'String')"
            ]
          },
          "metadata": {},
          "execution_count": 9
        }
      ]
    },
    {
      "cell_type": "code",
      "source": [
        "t = (10, 10, 10)\n",
        "t"
      ],
      "metadata": {
        "colab": {
          "base_uri": "https://localhost:8080/"
        },
        "id": "qFqgW_Ui1ktE",
        "outputId": "1b82f2ec-f68f-4de9-963b-fb10314a619f"
      },
      "execution_count": null,
      "outputs": [
        {
          "output_type": "execute_result",
          "data": {
            "text/plain": [
              "(10, 10, 10)"
            ]
          },
          "metadata": {},
          "execution_count": 10
        }
      ]
    },
    {
      "cell_type": "code",
      "source": [
        "t = (10, 10)\n",
        "id(t)"
      ],
      "metadata": {
        "colab": {
          "base_uri": "https://localhost:8080/"
        },
        "id": "xinVsgCu13xE",
        "outputId": "68a1b13f-db90-4464-fa5b-d359e2bd6055"
      },
      "execution_count": null,
      "outputs": [
        {
          "output_type": "execute_result",
          "data": {
            "text/plain": [
              "138320734358592"
            ]
          },
          "metadata": {},
          "execution_count": 11
        }
      ]
    },
    {
      "cell_type": "code",
      "source": [
        "t = (20, 30)\n",
        "id(t)"
      ],
      "metadata": {
        "colab": {
          "base_uri": "https://localhost:8080/"
        },
        "id": "hZDzpLHG1_uc",
        "outputId": "096b278e-7c53-410c-bbef-c8aa47be921d"
      },
      "execution_count": null,
      "outputs": [
        {
          "output_type": "execute_result",
          "data": {
            "text/plain": [
              "138321207901120"
            ]
          },
          "metadata": {},
          "execution_count": 14
        }
      ]
    },
    {
      "cell_type": "code",
      "source": [
        "t = ([10], )\n",
        "print(type(t),  \"  --> \", id(t))"
      ],
      "metadata": {
        "colab": {
          "base_uri": "https://localhost:8080/"
        },
        "id": "nFsU4sYW2HDG",
        "outputId": "85930a26-7b37-4e04-a410-e21a3dd0e53b"
      },
      "execution_count": null,
      "outputs": [
        {
          "output_type": "stream",
          "name": "stdout",
          "text": [
            "<class 'tuple'>   -->  138320312803408\n"
          ]
        }
      ]
    },
    {
      "cell_type": "code",
      "source": [
        "t[0].append(20)\n",
        "\n",
        "print(type(t),  \"  --> \", id(t))"
      ],
      "metadata": {
        "colab": {
          "base_uri": "https://localhost:8080/"
        },
        "id": "9xbUXt1z33Af",
        "outputId": "7d2a1fa0-5077-45f7-93f8-8c8ed09e6bcd"
      },
      "execution_count": null,
      "outputs": [
        {
          "output_type": "stream",
          "name": "stdout",
          "text": [
            "<class 'tuple'>   -->  138320312803408\n"
          ]
        }
      ]
    },
    {
      "cell_type": "code",
      "source": [
        "t[0].append(1000)\n",
        "\n",
        "print(type(t),  \"  --> \", id(t))"
      ],
      "metadata": {
        "colab": {
          "base_uri": "https://localhost:8080/"
        },
        "id": "8Iqb9tgk4NbI",
        "outputId": "c5445984-3977-4136-8889-5cc57aff1abd"
      },
      "execution_count": null,
      "outputs": [
        {
          "output_type": "stream",
          "name": "stdout",
          "text": [
            "<class 'tuple'>   -->  138320312803408\n"
          ]
        }
      ]
    },
    {
      "cell_type": "code",
      "source": [
        "t = (10, 20, 30, 40, 50)\n",
        "\n",
        "print(\"max -> \", max(t))\n",
        "print(\"min -> \", min(t))"
      ],
      "metadata": {
        "colab": {
          "base_uri": "https://localhost:8080/"
        },
        "id": "MsnivafQ4Rtj",
        "outputId": "39ee4015-930f-4f2f-8abe-55b70eeb4462"
      },
      "execution_count": null,
      "outputs": [
        {
          "output_type": "stream",
          "name": "stdout",
          "text": [
            "max ->  50\n",
            "min ->  10\n"
          ]
        }
      ]
    },
    {
      "cell_type": "code",
      "source": [
        "print(\"Sum -> \", sum(t))"
      ],
      "metadata": {
        "colab": {
          "base_uri": "https://localhost:8080/"
        },
        "id": "mvE4cBwI4yg3",
        "outputId": "f506e6c8-78e0-43d3-8400-db6314f342b8"
      },
      "execution_count": null,
      "outputs": [
        {
          "output_type": "stream",
          "name": "stdout",
          "text": [
            "Sum ->  150\n"
          ]
        }
      ]
    },
    {
      "cell_type": "code",
      "source": [
        "# # Set\n",
        "\n",
        "-> {}\n",
        "-> set()\n",
        "-> we can not store duplicat elements\n",
        "-> indexing concept is not applicables\n",
        "-> insertion order is not preserved\n",
        "-> mutable\n",
        "-> growable in nature\n",
        "-> we can not perform slicing"
      ],
      "metadata": {
        "id": "SWab-UcU5P7H"
      },
      "execution_count": null,
      "outputs": []
    },
    {
      "cell_type": "code",
      "source": [
        "s = {}\n",
        "type(s)"
      ],
      "metadata": {
        "colab": {
          "base_uri": "https://localhost:8080/"
        },
        "id": "9TBa7qYX6jUW",
        "outputId": "f0fc70ff-52ea-4348-cca3-8a985f3a4ac7"
      },
      "execution_count": null,
      "outputs": [
        {
          "output_type": "execute_result",
          "data": {
            "text/plain": [
              "dict"
            ]
          },
          "metadata": {},
          "execution_count": 31
        }
      ]
    },
    {
      "cell_type": "code",
      "source": [
        "s = set()\n",
        "type(s)"
      ],
      "metadata": {
        "colab": {
          "base_uri": "https://localhost:8080/"
        },
        "id": "S8vb-iHD6oL-",
        "outputId": "99c919a4-568e-497e-b9ed-e80c7319e158"
      },
      "execution_count": null,
      "outputs": [
        {
          "output_type": "execute_result",
          "data": {
            "text/plain": [
              "set"
            ]
          },
          "metadata": {},
          "execution_count": 32
        }
      ]
    },
    {
      "cell_type": "code",
      "source": [
        "s = {10}\n",
        "type(s)"
      ],
      "metadata": {
        "colab": {
          "base_uri": "https://localhost:8080/"
        },
        "id": "2iXRr7NF6z-A",
        "outputId": "0dec0a17-628c-412a-8d2d-c7b5b37b6211"
      },
      "execution_count": null,
      "outputs": [
        {
          "output_type": "execute_result",
          "data": {
            "text/plain": [
              "set"
            ]
          },
          "metadata": {},
          "execution_count": 33
        }
      ]
    },
    {
      "cell_type": "code",
      "source": [
        "s = {10, 20, 30, 40, 50}\n",
        "s"
      ],
      "metadata": {
        "colab": {
          "base_uri": "https://localhost:8080/"
        },
        "id": "Ln48R-1065av",
        "outputId": "4cb086b0-18ee-48ee-e311-3a0d9f453457"
      },
      "execution_count": null,
      "outputs": [
        {
          "output_type": "execute_result",
          "data": {
            "text/plain": [
              "{10, 20, 30, 40, 50}"
            ]
          },
          "metadata": {},
          "execution_count": 39
        }
      ]
    },
    {
      "cell_type": "code",
      "source": [
        "s.add(200) # place any where\n",
        "s"
      ],
      "metadata": {
        "colab": {
          "base_uri": "https://localhost:8080/"
        },
        "id": "k5Yv059e79Hf",
        "outputId": "20555b68-66bb-4693-981a-2014ad12bca3"
      },
      "execution_count": null,
      "outputs": [
        {
          "output_type": "execute_result",
          "data": {
            "text/plain": [
              "{10, 20, 30, 40, 50, 200}"
            ]
          },
          "metadata": {},
          "execution_count": 41
        }
      ]
    },
    {
      "cell_type": "code",
      "source": [
        "l = {10, 20, 30}\n",
        "l.pop()"
      ],
      "metadata": {
        "colab": {
          "base_uri": "https://localhost:8080/"
        },
        "id": "3nzRwZ_I8wTa",
        "outputId": "3d1ed15a-db40-4853-dbc5-fc3a36c368bf"
      },
      "execution_count": null,
      "outputs": [
        {
          "output_type": "execute_result",
          "data": {
            "text/plain": [
              "10"
            ]
          },
          "metadata": {},
          "execution_count": 47
        }
      ]
    },
    {
      "cell_type": "code",
      "source": [
        "l"
      ],
      "metadata": {
        "colab": {
          "base_uri": "https://localhost:8080/"
        },
        "id": "G6VfcdWr8-GH",
        "outputId": "2d703036-add0-4fe3-a7bf-178c3bb639c5"
      },
      "execution_count": null,
      "outputs": [
        {
          "output_type": "execute_result",
          "data": {
            "text/plain": [
              "{20, 30}"
            ]
          },
          "metadata": {},
          "execution_count": 45
        }
      ]
    },
    {
      "cell_type": "code",
      "source": [
        "s = {10, 10, 10, 10}\n",
        "s"
      ],
      "metadata": {
        "colab": {
          "base_uri": "https://localhost:8080/"
        },
        "id": "EN6bgTpI8_L8",
        "outputId": "d1740518-0562-435c-bcc4-79aeb1107d51"
      },
      "execution_count": null,
      "outputs": [
        {
          "output_type": "execute_result",
          "data": {
            "text/plain": [
              "{10}"
            ]
          },
          "metadata": {},
          "execution_count": 48
        }
      ]
    },
    {
      "cell_type": "code",
      "source": [
        "s = {10, 20, 30, 40, 1, 0}\n",
        "\n",
        "print(\"Max -> \", max(s))\n",
        "print(\"min -> \", min(s))\n",
        "print(\"Sum -> \", sum(s))"
      ],
      "metadata": {
        "colab": {
          "base_uri": "https://localhost:8080/"
        },
        "id": "Nnt47lbF9sW2",
        "outputId": "8588c0d5-e78e-4d7f-df96-700587943240"
      },
      "execution_count": null,
      "outputs": [
        {
          "output_type": "stream",
          "name": "stdout",
          "text": [
            "Max ->  40\n",
            "min ->  0\n",
            "Sum ->  101\n"
          ]
        }
      ]
    },
    {
      "cell_type": "code",
      "source": [
        "s = {10, 20, 30, 40, 1, 0}\n",
        "sorted(s)"
      ],
      "metadata": {
        "colab": {
          "base_uri": "https://localhost:8080/"
        },
        "id": "LWhLy6JE9_9m",
        "outputId": "8a315033-3a51-47cf-9e85-9c5161575095"
      },
      "execution_count": null,
      "outputs": [
        {
          "output_type": "execute_result",
          "data": {
            "text/plain": [
              "[0, 1, 10, 20, 30, 40]"
            ]
          },
          "metadata": {},
          "execution_count": 52
        }
      ]
    },
    {
      "cell_type": "code",
      "source": [
        "t = (10, 20, 0, 10, 200)\n",
        "\n",
        "print(\"Max -> \", max(t))  # -> list, tuple,\n",
        "print(\"Min -> \", min(t))\n",
        "print(\"Sum -> \", sum(t))\n",
        "print(\"Sorted \",  sorted(t))"
      ],
      "metadata": {
        "colab": {
          "base_uri": "https://localhost:8080/"
        },
        "id": "5yOrpB4m-Glx",
        "outputId": "dc6f5e01-a653-4a2b-a45a-d102ad14c8c0"
      },
      "execution_count": null,
      "outputs": [
        {
          "output_type": "stream",
          "name": "stdout",
          "text": [
            "Max ->  200\n",
            "Min ->  0\n",
            "Sum ->  240\n",
            "Sorted  [0, 10, 10, 20, 200]\n"
          ]
        }
      ]
    },
    {
      "cell_type": "code",
      "source": [
        "t = {10, 20, 0, 10, 200}\n",
        "\n",
        "print(\"Max -> \", max(t))  # -> list, tuple,\n",
        "print(\"Min -> \", min(t))\n",
        "print(\"Sum -> \", sum(t))\n",
        "print(\"Sorted \",  sorted(t))"
      ],
      "metadata": {
        "colab": {
          "base_uri": "https://localhost:8080/"
        },
        "id": "axtMdEztAKp7",
        "outputId": "5f6b0943-d7f0-4f90-e7ec-53757a4faf05"
      },
      "execution_count": null,
      "outputs": [
        {
          "output_type": "stream",
          "name": "stdout",
          "text": [
            "Max ->  200\n",
            "Min ->  0\n",
            "Sum ->  230\n",
            "Sorted  [0, 10, 20, 200]\n"
          ]
        }
      ]
    },
    {
      "cell_type": "code",
      "source": [
        "l = [10, 20, 30, 0, 1]\n",
        "l.sort()  # within sort"
      ],
      "metadata": {
        "id": "rhX7QHvLAXLH"
      },
      "execution_count": null,
      "outputs": []
    },
    {
      "cell_type": "code",
      "source": [
        "l"
      ],
      "metadata": {
        "colab": {
          "base_uri": "https://localhost:8080/"
        },
        "id": "k4v_hgDkBnaN",
        "outputId": "fd447c02-07ae-45ab-f4e5-cdabc79feb5d"
      },
      "execution_count": null,
      "outputs": [
        {
          "output_type": "execute_result",
          "data": {
            "text/plain": [
              "[0, 1, 10, 20, 30]"
            ]
          },
          "metadata": {},
          "execution_count": 57
        }
      ]
    },
    {
      "cell_type": "code",
      "source": [
        "l = [10, 20, 30, 0, 1]\n",
        "sorted(l)  # sort and print  --> return --> list"
      ],
      "metadata": {
        "colab": {
          "base_uri": "https://localhost:8080/"
        },
        "id": "AR3AulzGBv5A",
        "outputId": "a51ae56e-ed4c-46fb-8550-25da8165c4f9"
      },
      "execution_count": null,
      "outputs": [
        {
          "output_type": "execute_result",
          "data": {
            "text/plain": [
              "[0, 1, 10, 20, 30]"
            ]
          },
          "metadata": {},
          "execution_count": 58
        }
      ]
    },
    {
      "cell_type": "code",
      "source": [
        "# # Dict\n",
        "\n",
        "# key : value\n",
        "\n",
        "# -> key -> can not be duplicate\n",
        "# -> value -> we can store duplicates\n",
        "\n",
        "Syntax -->\n",
        "\n",
        "  <var-name> = {key : value, key : value}"
      ],
      "metadata": {
        "id": "OUFRoatlB2OE"
      },
      "execution_count": null,
      "outputs": []
    },
    {
      "cell_type": "code",
      "source": [
        "d = {}\n",
        "type(d)"
      ],
      "metadata": {
        "colab": {
          "base_uri": "https://localhost:8080/"
        },
        "id": "1iYEypk-G-LI",
        "outputId": "af6b40f9-7456-432b-bc98-a8d5b1cfbc96"
      },
      "execution_count": null,
      "outputs": [
        {
          "output_type": "execute_result",
          "data": {
            "text/plain": [
              "dict"
            ]
          },
          "metadata": {},
          "execution_count": 60
        }
      ]
    },
    {
      "cell_type": "code",
      "source": [
        "d = {1 : \"Java\", 2 : \"Python\", 3 : \"CPP\"}\n",
        "print(d)"
      ],
      "metadata": {
        "colab": {
          "base_uri": "https://localhost:8080/"
        },
        "id": "ms4v0NBkHA-p",
        "outputId": "b4d30332-ae3b-4c25-8b61-8f6e64d885d7"
      },
      "execution_count": null,
      "outputs": [
        {
          "output_type": "stream",
          "name": "stdout",
          "text": [
            "{1: 'Java', 2: 'Python', 3: 'CPP'}\n"
          ]
        }
      ]
    },
    {
      "cell_type": "code",
      "source": [
        "d = {1 : \"Dhanraj\", 2 : \"Dhanraj\", 3 : \"Dhanraj\"}\n",
        "print(d)"
      ],
      "metadata": {
        "colab": {
          "base_uri": "https://localhost:8080/"
        },
        "id": "ziUiJzpKHVEj",
        "outputId": "dfccf063-ddca-409d-f316-80eaf881def0"
      },
      "execution_count": null,
      "outputs": [
        {
          "output_type": "stream",
          "name": "stdout",
          "text": [
            "{1: 'Dhanraj', 2: 'Dhanraj', 3: 'Dhanraj'}\n"
          ]
        }
      ]
    },
    {
      "cell_type": "code",
      "source": [
        "d = {1 : \"Dhanraj\", 1 : \"Dhanraj\", 1 : \"Dhanraj\"}\n",
        "print(d)"
      ],
      "metadata": {
        "colab": {
          "base_uri": "https://localhost:8080/"
        },
        "id": "Cod3frEIHgu4",
        "outputId": "7912393c-9528-446d-8478-4801c11e9eb7"
      },
      "execution_count": null,
      "outputs": [
        {
          "output_type": "stream",
          "name": "stdout",
          "text": [
            "{1: 'Dhanraj'}\n"
          ]
        }
      ]
    },
    {
      "cell_type": "code",
      "source": [
        "d = {1 : \"Java\", 1 : \"Python\"}\n",
        "d"
      ],
      "metadata": {
        "colab": {
          "base_uri": "https://localhost:8080/"
        },
        "id": "laSvv29lHmfn",
        "outputId": "c925f42e-b6ca-46c9-81aa-b749b9756998"
      },
      "execution_count": null,
      "outputs": [
        {
          "output_type": "execute_result",
          "data": {
            "text/plain": [
              "{1: 'Python'}"
            ]
          },
          "metadata": {},
          "execution_count": 64
        }
      ]
    },
    {
      "cell_type": "code",
      "source": [
        "d = {1 : \"Java\", 1 : \"Python\"}\n",
        "d"
      ],
      "metadata": {
        "colab": {
          "base_uri": "https://localhost:8080/"
        },
        "id": "pveULharHtrC",
        "outputId": "b2432a19-a671-402d-855c-8b664809e900"
      },
      "execution_count": null,
      "outputs": [
        {
          "output_type": "execute_result",
          "data": {
            "text/plain": [
              "{1: 'Python'}"
            ]
          },
          "metadata": {},
          "execution_count": 65
        }
      ]
    },
    {
      "cell_type": "code",
      "source": [
        "d = {1 : \"Java\", 2 : \"Python\", 3 : \"CPP\"}\n",
        "print(d)"
      ],
      "metadata": {
        "colab": {
          "base_uri": "https://localhost:8080/"
        },
        "id": "yaA-YHxUJd6J",
        "outputId": "d6c74e48-9236-456d-e5b2-f70dd61ebfa6"
      },
      "execution_count": null,
      "outputs": [
        {
          "output_type": "stream",
          "name": "stdout",
          "text": [
            "{1: 'Java', 2: 'Python', 3: 'CPP'}\n"
          ]
        }
      ]
    },
    {
      "cell_type": "code",
      "source": [
        "d.keys()"
      ],
      "metadata": {
        "colab": {
          "base_uri": "https://localhost:8080/"
        },
        "id": "H45NEoGlJh48",
        "outputId": "d18686a5-1cac-4d0b-df8a-94ffa8e7bc4a"
      },
      "execution_count": null,
      "outputs": [
        {
          "output_type": "execute_result",
          "data": {
            "text/plain": [
              "dict_keys([1, 2, 3])"
            ]
          },
          "metadata": {},
          "execution_count": 67
        }
      ]
    },
    {
      "cell_type": "code",
      "source": [
        "d.values()"
      ],
      "metadata": {
        "colab": {
          "base_uri": "https://localhost:8080/"
        },
        "id": "EAuNOnVxJnp2",
        "outputId": "9f2ea49a-93b0-472f-8eb9-484799b21604"
      },
      "execution_count": null,
      "outputs": [
        {
          "output_type": "execute_result",
          "data": {
            "text/plain": [
              "dict_values(['Java', 'Python', 'CPP'])"
            ]
          },
          "metadata": {},
          "execution_count": 68
        }
      ]
    },
    {
      "cell_type": "code",
      "source": [
        "d.items()"
      ],
      "metadata": {
        "colab": {
          "base_uri": "https://localhost:8080/"
        },
        "id": "nOihmA9KJqv6",
        "outputId": "df793333-18e8-4eba-b65e-62b2149a099b"
      },
      "execution_count": null,
      "outputs": [
        {
          "output_type": "execute_result",
          "data": {
            "text/plain": [
              "dict_items([(1, 'Java'), (2, 'Python'), (3, 'CPP')])"
            ]
          },
          "metadata": {},
          "execution_count": 69
        }
      ]
    },
    {
      "cell_type": "code",
      "source": [],
      "metadata": {
        "id": "OYJWOvZPJ19k"
      },
      "execution_count": null,
      "outputs": []
    },
    {
      "cell_type": "markdown",
      "source": [
        "# **Looping**"
      ],
      "metadata": {
        "id": "2VsR_5k5KqAm"
      }
    },
    {
      "cell_type": "code",
      "source": [
        "1. while\n",
        "2. for"
      ],
      "metadata": {
        "id": "igGrJsynKuT9"
      },
      "execution_count": null,
      "outputs": []
    },
    {
      "cell_type": "code",
      "source": [
        "while ---> menu driven/ digit separation\n",
        "for   ---> Serier / pattern / array / String / sequence ...."
      ],
      "metadata": {
        "id": "cVTW5OFlK87b"
      },
      "execution_count": null,
      "outputs": []
    },
    {
      "cell_type": "code",
      "source": [
        "# 1. While\n",
        "# 3  --> 33\n",
        "# 3.10 --> 35\n",
        "\n",
        "Syntax -->\n",
        "\n",
        "    while (condition): --> Boolean\n",
        "\n",
        "      # at least one // pass/ break / condition\n",
        "\n",
        "\n",
        "starting --> included\n",
        "end --> exculed\n",
        "\n",
        "eg.\n",
        "\n",
        "  while start </> end:\n",
        "    print()\n",
        "    start++/--\n",
        "\n",
        "\n"
      ],
      "metadata": {
        "id": "zJDLsTQqMvUE"
      },
      "execution_count": null,
      "outputs": []
    },
    {
      "cell_type": "code",
      "source": [
        "# 1, 2, 3, 4, 5, 6, 7, 8, 9, 10\n",
        "\n",
        "start = 1\n",
        "while start <= 10:  # 10+1  / 11  / <=\n",
        "  print(start)\n",
        "  start = start + 1"
      ],
      "metadata": {
        "colab": {
          "base_uri": "https://localhost:8080/"
        },
        "id": "gqJPUjYONMo6",
        "outputId": "0da3fea2-bee2-4ac1-b302-97480a478d2e"
      },
      "execution_count": null,
      "outputs": [
        {
          "output_type": "stream",
          "name": "stdout",
          "text": [
            "1\n",
            "2\n",
            "3\n",
            "4\n",
            "5\n",
            "6\n",
            "7\n",
            "8\n",
            "9\n",
            "10\n"
          ]
        }
      ]
    },
    {
      "cell_type": "code",
      "source": [
        "import time\n",
        "\n",
        "start = 1\n",
        "while start <= 5:\n",
        "  time.sleep(4)\n",
        "  print(start, \" after printing start is -> \", start + 1)\n",
        "  start = start + 1"
      ],
      "metadata": {
        "colab": {
          "base_uri": "https://localhost:8080/"
        },
        "id": "iInvHLmBPUaG",
        "outputId": "22293e2d-dded-4f58-e70e-0b7d39563a9e"
      },
      "execution_count": null,
      "outputs": [
        {
          "output_type": "stream",
          "name": "stdout",
          "text": [
            "1  after printing start is ->  2\n",
            "2  after printing start is ->  3\n",
            "3  after printing start is ->  4\n",
            "4  after printing start is ->  5\n",
            "5  after printing start is ->  6\n"
          ]
        }
      ]
    },
    {
      "cell_type": "code",
      "source": [
        "# 10, 9, 8, ...., 1\n",
        "\n",
        "\n",
        "start = 10\n",
        "\n",
        "while start >= 1:\n",
        "  print(start)\n",
        "  start = start - 1"
      ],
      "metadata": {
        "colab": {
          "base_uri": "https://localhost:8080/"
        },
        "id": "TNL5eluDSPNR",
        "outputId": "69df6730-b184-4189-b7ee-ad9eb0e57fb5"
      },
      "execution_count": null,
      "outputs": [
        {
          "output_type": "stream",
          "name": "stdout",
          "text": [
            "10\n",
            "9\n",
            "8\n",
            "7\n",
            "6\n",
            "5\n",
            "4\n",
            "3\n",
            "2\n",
            "1\n"
          ]
        }
      ]
    },
    {
      "cell_type": "code",
      "source": [],
      "metadata": {
        "id": "56t9SH8HULqP"
      },
      "execution_count": null,
      "outputs": []
    }
  ]
}