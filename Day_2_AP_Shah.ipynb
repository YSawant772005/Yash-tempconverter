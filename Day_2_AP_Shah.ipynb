{
  "nbformat": 4,
  "nbformat_minor": 0,
  "metadata": {
    "colab": {
      "provenance": [],
      "include_colab_link": true
    },
    "kernelspec": {
      "name": "python3",
      "display_name": "Python 3"
    },
    "language_info": {
      "name": "python"
    }
  },
  "cells": [
    {
      "cell_type": "markdown",
      "metadata": {
        "id": "view-in-github",
        "colab_type": "text"
      },
      "source": [
        "<a href=\"https://colab.research.google.com/github/YSawant772005/Yash-tempconverter/blob/main/Day_2_AP_Shah.ipynb\" target=\"_parent\"><img src=\"https://colab.research.google.com/assets/colab-badge.svg\" alt=\"Open In Colab\"/></a>"
      ]
    },
    {
      "cell_type": "code",
      "execution_count": null,
      "metadata": {
        "id": "PNAanUNkqEw9"
      },
      "outputs": [],
      "source": [
        "# Collection Data types\n",
        "\n",
        "1. List\n",
        "2. tuple\n",
        "3. set\n",
        "4. dict"
      ]
    },
    {
      "cell_type": "code",
      "source": [
        "l = [10, 10.0,  True, 10 + 0j, \"String\"]\n",
        "l"
      ],
      "metadata": {
        "colab": {
          "base_uri": "https://localhost:8080/"
        },
        "id": "uQKi5URptvwO",
        "outputId": "5529a35b-d70b-40b2-9e82-ed892d9df002"
      },
      "execution_count": null,
      "outputs": [
        {
          "output_type": "execute_result",
          "data": {
            "text/plain": [
              "[10, 10.0, True, (10+0j), 'String']"
            ]
          },
          "metadata": {},
          "execution_count": 1
        }
      ]
    },
    {
      "cell_type": "code",
      "source": [
        "Tuple\n",
        "\n",
        "-> ()\n",
        "-> we can store hetrogeneous data types\n",
        "-> Immutable\n",
        "-> Indexing\n",
        "-> we can store duplicates\n",
        "-> insetion order is preserve\n",
        "-> slicing\n",
        "-> not growable in nature"
      ],
      "metadata": {
        "id": "p-wo_0-ot5Js"
      },
      "execution_count": null,
      "outputs": []
    },
    {
      "cell_type": "code",
      "source": [
        "t = ()\n",
        "type(t)"
      ],
      "metadata": {
        "colab": {
          "base_uri": "https://localhost:8080/"
        },
        "id": "3zRtWiWEt8cf",
        "outputId": "95baf3fa-5580-40f0-f5ab-b8e9e7158305"
      },
      "execution_count": null,
      "outputs": [
        {
          "output_type": "execute_result",
          "data": {
            "text/plain": [
              "tuple"
            ]
          },
          "metadata": {},
          "execution_count": 3
        }
      ]
    },
    {
      "cell_type": "code",
      "source": [
        "t = (10)\n",
        "type(t)"
      ],
      "metadata": {
        "colab": {
          "base_uri": "https://localhost:8080/"
        },
        "id": "jczINYSLt9iF",
        "outputId": "e5ca5af1-a2df-4360-cada-56c2613ea157"
      },
      "execution_count": null,
      "outputs": [
        {
          "output_type": "execute_result",
          "data": {
            "text/plain": [
              "int"
            ]
          },
          "metadata": {},
          "execution_count": 4
        }
      ]
    },
    {
      "cell_type": "code",
      "source": [
        "t = (10, )\n",
        "type(t)"
      ],
      "metadata": {
        "colab": {
          "base_uri": "https://localhost:8080/"
        },
        "id": "-lwbENPKt_SG",
        "outputId": "91678f53-c8dc-4f82-a422-9fb40b3ed5a7"
      },
      "execution_count": null,
      "outputs": [
        {
          "output_type": "execute_result",
          "data": {
            "text/plain": [
              "tuple"
            ]
          },
          "metadata": {},
          "execution_count": 5
        }
      ]
    },
    {
      "cell_type": "code",
      "source": [
        "l = (10, 10.0,  True, 10 + 0j, \"String\")\n",
        "type(l)"
      ],
      "metadata": {
        "colab": {
          "base_uri": "https://localhost:8080/"
        },
        "id": "-Hzwcv3m1YQZ",
        "outputId": "dbc73d86-7326-4a60-e3e8-058713b4ec39"
      },
      "execution_count": null,
      "outputs": [
        {
          "output_type": "execute_result",
          "data": {
            "text/plain": [
              "tuple"
            ]
          },
          "metadata": {},
          "execution_count": 8
        }
      ]
    },
    {
      "cell_type": "code",
      "source": [
        "l"
      ],
      "metadata": {
        "colab": {
          "base_uri": "https://localhost:8080/"
        },
        "id": "GqZZ7xAE1j53",
        "outputId": "cbaf3711-7bee-42bf-be0c-2e214d7de980"
      },
      "execution_count": null,
      "outputs": [
        {
          "output_type": "execute_result",
          "data": {
            "text/plain": [
              "(10, 10.0, True, (10+0j), 'String')"
            ]
          },
          "metadata": {},
          "execution_count": 9
        }
      ]
    },
    {
      "cell_type": "code",
      "source": [
        "t = (10, 10, 10)\n",
        "t"
      ],
      "metadata": {
        "colab": {
          "base_uri": "https://localhost:8080/"
        },
        "id": "qFqgW_Ui1ktE",
        "outputId": "1b82f2ec-f68f-4de9-963b-fb10314a619f"
      },
      "execution_count": null,
      "outputs": [
        {
          "output_type": "execute_result",
          "data": {
            "text/plain": [
              "(10, 10, 10)"
            ]
          },
          "metadata": {},
          "execution_count": 10
        }
      ]
    },
    {
      "cell_type": "code",
      "source": [
        "t = (10, 10)\n",
        "id(t)"
      ],
      "metadata": {
        "colab": {
          "base_uri": "https://localhost:8080/"
        },
        "id": "xinVsgCu13xE",
        "outputId": "68a1b13f-db90-4464-fa5b-d359e2bd6055"
      },
      "execution_count": null,
      "outputs": [
        {
          "output_type": "execute_result",
          "data": {
            "text/plain": [
              "138320734358592"
            ]
          },
          "metadata": {},
          "execution_count": 11
        }
      ]
    },
    {
      "cell_type": "code",
      "source": [
        "t = (20, 30)\n",
        "id(t)"
      ],
      "metadata": {
        "colab": {
          "base_uri": "https://localhost:8080/"
        },
        "id": "hZDzpLHG1_uc",
        "outputId": "096b278e-7c53-410c-bbef-c8aa47be921d"
      },
      "execution_count": null,
      "outputs": [
        {
          "output_type": "execute_result",
          "data": {
            "text/plain": [
              "138321207901120"
            ]
          },
          "metadata": {},
          "execution_count": 14
        }
      ]
    },
    {
      "cell_type": "code",
      "source": [
        "t = ([10], )\n",
        "print(type(t),  \"  --> \", id(t))"
      ],
      "metadata": {
        "colab": {
          "base_uri": "https://localhost:8080/"
        },
        "id": "nFsU4sYW2HDG",
        "outputId": "85930a26-7b37-4e04-a410-e21a3dd0e53b"
      },
      "execution_count": null,
      "outputs": [
        {
          "output_type": "stream",
          "name": "stdout",
          "text": [
            "<class 'tuple'>   -->  138320312803408\n"
          ]
        }
      ]
    },
    {
      "cell_type": "code",
      "source": [
        "t[0].append(20)\n",
        "\n",
        "print(type(t),  \"  --> \", id(t))"
      ],
      "metadata": {
        "colab": {
          "base_uri": "https://localhost:8080/"
        },
        "id": "9xbUXt1z33Af",
        "outputId": "7d2a1fa0-5077-45f7-93f8-8c8ed09e6bcd"
      },
      "execution_count": null,
      "outputs": [
        {
          "output_type": "stream",
          "name": "stdout",
          "text": [
            "<class 'tuple'>   -->  138320312803408\n"
          ]
        }
      ]
    },
    {
      "cell_type": "code",
      "source": [
        "t[0].append(1000)\n",
        "\n",
        "print(type(t),  \"  --> \", id(t))"
      ],
      "metadata": {
        "colab": {
          "base_uri": "https://localhost:8080/"
        },
        "id": "8Iqb9tgk4NbI",
        "outputId": "c5445984-3977-4136-8889-5cc57aff1abd"
      },
      "execution_count": null,
      "outputs": [
        {
          "output_type": "stream",
          "name": "stdout",
          "text": [
            "<class 'tuple'>   -->  138320312803408\n"
          ]
        }
      ]
    },
    {
      "cell_type": "code",
      "source": [
        "t = (10, 20, 30, 40, 50)\n",
        "\n",
        "print(\"max -> \", max(t))\n",
        "print(\"min -> \", min(t))"
      ],
      "metadata": {
        "colab": {
          "base_uri": "https://localhost:8080/"
        },
        "id": "MsnivafQ4Rtj",
        "outputId": "39ee4015-930f-4f2f-8abe-55b70eeb4462"
      },
      "execution_count": null,
      "outputs": [
        {
          "output_type": "stream",
          "name": "stdout",
          "text": [
            "max ->  50\n",
            "min ->  10\n"
          ]
        }
      ]
    },
    {
      "cell_type": "code",
      "source": [
        "print(\"Sum -> \", sum(t))"
      ],
      "metadata": {
        "colab": {
          "base_uri": "https://localhost:8080/"
        },
        "id": "mvE4cBwI4yg3",
        "outputId": "f506e6c8-78e0-43d3-8400-db6314f342b8"
      },
      "execution_count": null,
      "outputs": [
        {
          "output_type": "stream",
          "name": "stdout",
          "text": [
            "Sum ->  150\n"
          ]
        }
      ]
    },
    {
      "cell_type": "code",
      "source": [
        "# Set"
      ],
      "metadata": {
        "id": "SWab-UcU5P7H"
      },
      "execution_count": null,
      "outputs": []
    }
  ]
}